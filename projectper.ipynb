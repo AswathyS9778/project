{
  "nbformat": 4,
  "nbformat_minor": 0,
  "metadata": {
    "colab": {
      "name": "projectper.ipynb",
      "provenance": [],
      "collapsed_sections": [],
      "include_colab_link": true
    },
    "kernelspec": {
      "name": "python3",
      "display_name": "Python 3"
    },
    "language_info": {
      "name": "python"
    }
  },
  "cells": [
    {
      "cell_type": "markdown",
      "metadata": {
        "id": "view-in-github",
        "colab_type": "text"
      },
      "source": [
        "<a href=\"https://colab.research.google.com/github/AswathyS9778/project/blob/main/projectper.ipynb\" target=\"_parent\"><img src=\"https://colab.research.google.com/assets/colab-badge.svg\" alt=\"Open In Colab\"/></a>"
      ]
    },
    {
      "cell_type": "code",
      "source": [
        "!sudo apt install tesseract-ocr\n",
        "!pip install pytesseract"
      ],
      "metadata": {
        "colab": {
          "base_uri": "https://localhost:8080/",
          "height": 487
        },
        "id": "8W7fd6V0o0Sd",
        "outputId": "4f1b31e5-2444-41e9-ed78-1302a6757fe2"
      },
      "execution_count": 1,
      "outputs": [
        {
          "output_type": "stream",
          "name": "stdout",
          "text": [
            "Reading package lists... Done\n",
            "Building dependency tree       \n",
            "Reading state information... Done\n",
            "tesseract-ocr is already the newest version (4.00~git2288-10f4998a-2).\n",
            "The following package was automatically installed and is no longer required:\n",
            "  libnvidia-common-470\n",
            "Use 'sudo apt autoremove' to remove it.\n",
            "0 upgraded, 0 newly installed, 0 to remove and 39 not upgraded.\n",
            "Requirement already satisfied: pytesseract in /usr/local/lib/python3.7/dist-packages (0.3.9)\n",
            "Collecting Pillow>=8.0.0\n",
            "  Using cached Pillow-9.0.1-cp37-cp37m-manylinux_2_17_x86_64.manylinux2014_x86_64.whl (4.3 MB)\n",
            "Requirement already satisfied: packaging>=21.3 in /usr/local/lib/python3.7/dist-packages (from pytesseract) (21.3)\n",
            "Requirement already satisfied: pyparsing!=3.0.5,>=2.0.2 in /usr/local/lib/python3.7/dist-packages (from packaging>=21.3->pytesseract) (3.0.7)\n",
            "Installing collected packages: Pillow\n",
            "  Attempting uninstall: Pillow\n",
            "    Found existing installation: Pillow 4.1.1\n",
            "    Uninstalling Pillow-4.1.1:\n",
            "      Successfully uninstalled Pillow-4.1.1\n",
            "\u001b[31mERROR: pip's dependency resolver does not currently take into account all the packages that are installed. This behaviour is the source of the following dependency conflicts.\n",
            "albumentations 0.1.12 requires imgaug<0.2.7,>=0.2.5, but you have imgaug 0.2.9 which is incompatible.\u001b[0m\n",
            "Successfully installed Pillow-9.0.1\n"
          ]
        },
        {
          "output_type": "display_data",
          "data": {
            "application/vnd.colab-display-data+json": {
              "pip_warning": {
                "packages": [
                  "PIL"
                ]
              }
            }
          },
          "metadata": {}
        }
      ]
    },
    {
      "cell_type": "code",
      "source": [
        "import pytesseract\n",
        "import shutil\n",
        "import os\n",
        "import random\n"
      ],
      "metadata": {
        "id": "z_0EOgGBpIrQ"
      },
      "execution_count": 2,
      "outputs": []
    },
    {
      "cell_type": "code",
      "source": [
        "from PIL import Image"
      ],
      "metadata": {
        "id": "S0xKnBTQpw9H"
      },
      "execution_count": 3,
      "outputs": []
    },
    {
      "cell_type": "code",
      "source": [
        "# !pip install pillow==4.1.1\n",
        "# %reload_ext autoreload\n",
        "# %autoreload"
      ],
      "metadata": {
        "id": "O2mzJlIiMkZk"
      },
      "execution_count": 4,
      "outputs": []
    },
    {
      "cell_type": "code",
      "source": [
        "!pip install pillow==4.1.1\n",
        "%reload_ext autoreload\n",
        "%autoreload"
      ],
      "metadata": {
        "colab": {
          "base_uri": "https://localhost:8080/",
          "height": 383
        },
        "id": "9iOx5142RtIs",
        "outputId": "a2648b41-0121-4900-dcfd-73bc38b5b8a3"
      },
      "execution_count": 5,
      "outputs": [
        {
          "output_type": "stream",
          "name": "stdout",
          "text": [
            "Collecting pillow==4.1.1\n",
            "  Using cached Pillow-4.1.1-cp37-cp37m-linux_x86_64.whl\n",
            "Requirement already satisfied: olefile in /usr/local/lib/python3.7/dist-packages (from pillow==4.1.1) (0.46)\n",
            "Installing collected packages: pillow\n",
            "  Attempting uninstall: pillow\n",
            "    Found existing installation: Pillow 9.0.1\n",
            "    Uninstalling Pillow-9.0.1:\n",
            "      Successfully uninstalled Pillow-9.0.1\n",
            "\u001b[31mERROR: pip's dependency resolver does not currently take into account all the packages that are installed. This behaviour is the source of the following dependency conflicts.\n",
            "torchvision 0.11.1+cu111 requires pillow!=8.3.0,>=5.3.0, but you have pillow 4.1.1 which is incompatible.\n",
            "scikit-image 0.18.3 requires pillow!=7.1.0,!=7.1.1,>=4.3.0, but you have pillow 4.1.1 which is incompatible.\n",
            "pytesseract 0.3.9 requires Pillow>=8.0.0, but you have pillow 4.1.1 which is incompatible.\n",
            "bokeh 2.3.3 requires pillow>=7.1.0, but you have pillow 4.1.1 which is incompatible.\n",
            "albumentations 0.1.12 requires imgaug<0.2.7,>=0.2.5, but you have imgaug 0.2.9 which is incompatible.\u001b[0m\n",
            "Successfully installed pillow-4.1.1\n"
          ]
        },
        {
          "output_type": "display_data",
          "data": {
            "application/vnd.colab-display-data+json": {
              "pip_warning": {
                "packages": [
                  "PIL"
                ]
              }
            }
          },
          "metadata": {}
        }
      ]
    },
    {
      "cell_type": "code",
      "source": [
        "import pytesseract\n",
        "from PIL import Image\n",
        "from pytesseract import image_to_string\n",
        "Image_path_in_colab='/content/imgnutri.jpg'\n",
        "im=pytesseract.image_to_string(Image.open(Image_path_in_colab))"
      ],
      "metadata": {
        "id": "zc10C0GFtO3P"
      },
      "execution_count": 6,
      "outputs": []
    },
    {
      "cell_type": "code",
      "source": [
        "print(im)"
      ],
      "metadata": {
        "id": "0VGYVmg1t_mJ",
        "colab": {
          "base_uri": "https://localhost:8080/"
        },
        "outputId": "639b916e-81e5-4e22-b742-317268f30766"
      },
      "execution_count": 7,
      "outputs": [
        {
          "output_type": "stream",
          "name": "stdout",
          "text": [
            "Nutrition Facts Servings: 16, Serv. size: 1 Tbsp (21g),\n",
            "\n",
            "Amount per serving: Calories 60, Total Fat 0g (0% DV), Sat. Fat 0g (0% DV),\n",
            "Trans Fat Og, Cholest. Omg (0% DV), Sodium Omg (0% DV), Total Carb. 17g (6% DV),\n",
            "\n",
            "Fiber Og (0% DV), Total Sugars 17g, ( , 34% DV'), Protein Og,\n",
            "Vit. D (0% DV), Calcium (0% DV), Iron (0% DV), Potas. (0% DV).\n",
            "1 Oneserving adds 17g of sugar to your diet and represents 24% of the Daily Value for Added Sugars.\n",
            "\n",
            " \n",
            "\f\n"
          ]
        }
      ]
    },
    {
      "cell_type": "code",
      "source": [
        "#Functions for the nutrition app\n",
        "#dict for data from the file\n",
        "productList = {}\n",
        "\n",
        "\n",
        "def file_open():\n",
        "    \"\"\"Opens the file, adds data into dict\"\"\"\n",
        "    with open(\"Products.txt\") as file:\n",
        "        #split the words and add them to dictionary productList\n",
        "        for row in file:\n",
        "            if not row:\n",
        "                continue\n",
        "            else:\n",
        "                product, values = row.split(',')\n",
        "                productList[product] = values\n",
        "\n",
        "\n",
        "def result(product, gram):\n",
        "    \"\"\"Calculates the nutritional values and returns result\"\"\"\n",
        "    kcalValue = proteinValue = carbValue = fatValue = 0\n",
        "    #check if user products are in the file\n",
        "    if product in productList:\n",
        "        (kcal, protein, carb, fat) = productList[product].split(':')\n",
        "        #calculating the nutritional values\n",
        "        kcalValue += gram / 100 * int(kcal)\n",
        "        proteinValue += gram / 100 * int(protein)\n",
        "        carbValue += gram / 100 * int(carb)\n",
        "        fatValue += gram / 100 * int(fat)\n",
        "        outcome = \"Your product provided you with %d kcal, \"\\\n",
        "           \"%d protein, %d carbs oraz %d fat.\"\\\n",
        "           % (kcalValue, proteinValue, carbValue, fatValue)\n",
        "    else:\n",
        "        outcome = \"Sorry, but we don't have this product in our database: %s, but you can add it! :)\"% (product)\n",
        "    return outcome\n"
      ],
      "metadata": {
        "id": "Uu4rvmQxbnYh"
      },
      "execution_count": 8,
      "outputs": []
    }
  ]
}